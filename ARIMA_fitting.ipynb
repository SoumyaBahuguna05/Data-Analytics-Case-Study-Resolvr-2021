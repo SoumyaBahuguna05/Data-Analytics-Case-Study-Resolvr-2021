{
  "nbformat": 4,
  "nbformat_minor": 0,
  "metadata": {
    "colab": {
      "name": "ARIMA fitting.ipynb",
      "provenance": [],
      "collapsed_sections": []
    },
    "kernelspec": {
      "name": "python3",
      "display_name": "Python 3"
    },
    "language_info": {
      "name": "python"
    }
  },
  "cells": [
    {
      "cell_type": "code",
      "metadata": {
        "id": "bocFKXr3l6wd"
      },
      "source": [
        "#EDA\n",
        "import pandas as pd\n",
        "import statsmodels as sm\n",
        "import numpy as np\n",
        "import matplotlib.pyplot as plt"
      ],
      "execution_count": null,
      "outputs": []
    },
    {
      "cell_type": "markdown",
      "metadata": {
        "id": "4qKzvMYYl9Uu"
      },
      "source": [
        "EDA for time series"
      ]
    },
    {
      "cell_type": "code",
      "metadata": {
        "id": "sY6siul4rAXY"
      },
      "source": [
        "dataf = pd.read_csv('raw_data.csv')#, index_col = 'Date', parse_dates=True)\n",
        "dataf['Date'] = pd.to_datetime(dataf['Date'], dayfirst=True)"
      ],
      "execution_count": null,
      "outputs": []
    },
    {
      "cell_type": "code",
      "metadata": {
        "id": "uuHntaB-8aHh",
        "colab": {
          "base_uri": "https://localhost:8080/",
          "height": 424
        },
        "outputId": "0503e898-40bc-42b7-ee1d-91e4ae50921c"
      },
      "source": [
        "dataf"
      ],
      "execution_count": null,
      "outputs": [
        {
          "output_type": "execute_result",
          "data": {
            "text/html": [
              "<div>\n",
              "<style scoped>\n",
              "    .dataframe tbody tr th:only-of-type {\n",
              "        vertical-align: middle;\n",
              "    }\n",
              "\n",
              "    .dataframe tbody tr th {\n",
              "        vertical-align: top;\n",
              "    }\n",
              "\n",
              "    .dataframe thead th {\n",
              "        text-align: right;\n",
              "    }\n",
              "</style>\n",
              "<table border=\"1\" class=\"dataframe\">\n",
              "  <thead>\n",
              "    <tr style=\"text-align: right;\">\n",
              "      <th></th>\n",
              "      <th>Date</th>\n",
              "      <th>r1mw</th>\n",
              "      <th>r2mw</th>\n",
              "      <th>r3mw</th>\n",
              "      <th>r4mw</th>\n",
              "      <th>r1m</th>\n",
              "      <th>r2m</th>\n",
              "      <th>r3m</th>\n",
              "      <th>r4m</th>\n",
              "      <th>r1c</th>\n",
              "      <th>r2c</th>\n",
              "      <th>r3c</th>\n",
              "      <th>r4c</th>\n",
              "      <th>r1a</th>\n",
              "      <th>r2a</th>\n",
              "      <th>r3a</th>\n",
              "      <th>r4a</th>\n",
              "    </tr>\n",
              "  </thead>\n",
              "  <tbody>\n",
              "    <tr>\n",
              "      <th>0</th>\n",
              "      <td>2009-01-01</td>\n",
              "      <td>26</td>\n",
              "      <td>41</td>\n",
              "      <td>37</td>\n",
              "      <td>24</td>\n",
              "      <td>264</td>\n",
              "      <td>272</td>\n",
              "      <td>270</td>\n",
              "      <td>273</td>\n",
              "      <td>311</td>\n",
              "      <td>309</td>\n",
              "      <td>353</td>\n",
              "      <td>305</td>\n",
              "      <td>107</td>\n",
              "      <td>422</td>\n",
              "      <td>1367</td>\n",
              "      <td>632</td>\n",
              "    </tr>\n",
              "    <tr>\n",
              "      <th>1</th>\n",
              "      <td>2009-01-08</td>\n",
              "      <td>28</td>\n",
              "      <td>41</td>\n",
              "      <td>31</td>\n",
              "      <td>22</td>\n",
              "      <td>263</td>\n",
              "      <td>270</td>\n",
              "      <td>271</td>\n",
              "      <td>272</td>\n",
              "      <td>310</td>\n",
              "      <td>313</td>\n",
              "      <td>318</td>\n",
              "      <td>304</td>\n",
              "      <td>632</td>\n",
              "      <td>632</td>\n",
              "      <td>947</td>\n",
              "      <td>632</td>\n",
              "    </tr>\n",
              "    <tr>\n",
              "      <th>2</th>\n",
              "      <td>2009-01-15</td>\n",
              "      <td>29</td>\n",
              "      <td>36</td>\n",
              "      <td>27</td>\n",
              "      <td>22</td>\n",
              "      <td>265</td>\n",
              "      <td>272</td>\n",
              "      <td>271</td>\n",
              "      <td>269</td>\n",
              "      <td>311</td>\n",
              "      <td>310</td>\n",
              "      <td>309</td>\n",
              "      <td>305</td>\n",
              "      <td>737</td>\n",
              "      <td>737</td>\n",
              "      <td>947</td>\n",
              "      <td>1157</td>\n",
              "    </tr>\n",
              "    <tr>\n",
              "      <th>3</th>\n",
              "      <td>2009-01-22</td>\n",
              "      <td>28</td>\n",
              "      <td>35</td>\n",
              "      <td>28</td>\n",
              "      <td>25</td>\n",
              "      <td>266</td>\n",
              "      <td>274</td>\n",
              "      <td>271</td>\n",
              "      <td>270</td>\n",
              "      <td>312</td>\n",
              "      <td>311</td>\n",
              "      <td>308</td>\n",
              "      <td>309</td>\n",
              "      <td>317</td>\n",
              "      <td>737</td>\n",
              "      <td>737</td>\n",
              "      <td>1157</td>\n",
              "    </tr>\n",
              "    <tr>\n",
              "      <th>4</th>\n",
              "      <td>2009-01-29</td>\n",
              "      <td>26</td>\n",
              "      <td>31</td>\n",
              "      <td>25</td>\n",
              "      <td>28</td>\n",
              "      <td>267</td>\n",
              "      <td>269</td>\n",
              "      <td>270</td>\n",
              "      <td>271</td>\n",
              "      <td>309</td>\n",
              "      <td>309</td>\n",
              "      <td>304</td>\n",
              "      <td>311</td>\n",
              "      <td>947</td>\n",
              "      <td>842</td>\n",
              "      <td>1367</td>\n",
              "      <td>1157</td>\n",
              "    </tr>\n",
              "    <tr>\n",
              "      <th>...</th>\n",
              "      <td>...</td>\n",
              "      <td>...</td>\n",
              "      <td>...</td>\n",
              "      <td>...</td>\n",
              "      <td>...</td>\n",
              "      <td>...</td>\n",
              "      <td>...</td>\n",
              "      <td>...</td>\n",
              "      <td>...</td>\n",
              "      <td>...</td>\n",
              "      <td>...</td>\n",
              "      <td>...</td>\n",
              "      <td>...</td>\n",
              "      <td>...</td>\n",
              "      <td>...</td>\n",
              "      <td>...</td>\n",
              "      <td>...</td>\n",
              "    </tr>\n",
              "    <tr>\n",
              "      <th>307</th>\n",
              "      <td>2014-11-20</td>\n",
              "      <td>41</td>\n",
              "      <td>33</td>\n",
              "      <td>21</td>\n",
              "      <td>47</td>\n",
              "      <td>274</td>\n",
              "      <td>272</td>\n",
              "      <td>269</td>\n",
              "      <td>271</td>\n",
              "      <td>311</td>\n",
              "      <td>304</td>\n",
              "      <td>302</td>\n",
              "      <td>310</td>\n",
              "      <td>737</td>\n",
              "      <td>1262</td>\n",
              "      <td>1682</td>\n",
              "      <td>737</td>\n",
              "    </tr>\n",
              "    <tr>\n",
              "      <th>308</th>\n",
              "      <td>2014-11-27</td>\n",
              "      <td>40</td>\n",
              "      <td>27</td>\n",
              "      <td>24</td>\n",
              "      <td>45</td>\n",
              "      <td>271</td>\n",
              "      <td>272</td>\n",
              "      <td>268</td>\n",
              "      <td>267</td>\n",
              "      <td>310</td>\n",
              "      <td>304</td>\n",
              "      <td>303</td>\n",
              "      <td>307</td>\n",
              "      <td>737</td>\n",
              "      <td>842</td>\n",
              "      <td>1577</td>\n",
              "      <td>527</td>\n",
              "    </tr>\n",
              "    <tr>\n",
              "      <th>309</th>\n",
              "      <td>2014-12-04</td>\n",
              "      <td>38</td>\n",
              "      <td>26</td>\n",
              "      <td>28</td>\n",
              "      <td>45</td>\n",
              "      <td>269</td>\n",
              "      <td>270</td>\n",
              "      <td>265</td>\n",
              "      <td>267</td>\n",
              "      <td>307</td>\n",
              "      <td>304</td>\n",
              "      <td>303</td>\n",
              "      <td>307</td>\n",
              "      <td>842</td>\n",
              "      <td>1052</td>\n",
              "      <td>1367</td>\n",
              "      <td>842</td>\n",
              "    </tr>\n",
              "    <tr>\n",
              "      <th>310</th>\n",
              "      <td>2014-12-11</td>\n",
              "      <td>32</td>\n",
              "      <td>26</td>\n",
              "      <td>32</td>\n",
              "      <td>49</td>\n",
              "      <td>272</td>\n",
              "      <td>273</td>\n",
              "      <td>266</td>\n",
              "      <td>264</td>\n",
              "      <td>302</td>\n",
              "      <td>305</td>\n",
              "      <td>303</td>\n",
              "      <td>307</td>\n",
              "      <td>842</td>\n",
              "      <td>1052</td>\n",
              "      <td>1472</td>\n",
              "      <td>737</td>\n",
              "    </tr>\n",
              "    <tr>\n",
              "      <th>311</th>\n",
              "      <td>2014-12-18</td>\n",
              "      <td>32</td>\n",
              "      <td>28</td>\n",
              "      <td>32</td>\n",
              "      <td>50</td>\n",
              "      <td>272</td>\n",
              "      <td>272</td>\n",
              "      <td>265</td>\n",
              "      <td>270</td>\n",
              "      <td>307</td>\n",
              "      <td>302</td>\n",
              "      <td>304</td>\n",
              "      <td>308</td>\n",
              "      <td>527</td>\n",
              "      <td>1367</td>\n",
              "      <td>1052</td>\n",
              "      <td>527</td>\n",
              "    </tr>\n",
              "  </tbody>\n",
              "</table>\n",
              "<p>312 rows × 17 columns</p>\n",
              "</div>"
            ],
            "text/plain": [
              "          Date  r1mw  r2mw  r3mw  r4mw  r1m  ...  r3c  r4c  r1a   r2a   r3a   r4a\n",
              "0   2009-01-01    26    41    37    24  264  ...  353  305  107   422  1367   632\n",
              "1   2009-01-08    28    41    31    22  263  ...  318  304  632   632   947   632\n",
              "2   2009-01-15    29    36    27    22  265  ...  309  305  737   737   947  1157\n",
              "3   2009-01-22    28    35    28    25  266  ...  308  309  317   737   737  1157\n",
              "4   2009-01-29    26    31    25    28  267  ...  304  311  947   842  1367  1157\n",
              "..         ...   ...   ...   ...   ...  ...  ...  ...  ...  ...   ...   ...   ...\n",
              "307 2014-11-20    41    33    21    47  274  ...  302  310  737  1262  1682   737\n",
              "308 2014-11-27    40    27    24    45  271  ...  303  307  737   842  1577   527\n",
              "309 2014-12-04    38    26    28    45  269  ...  303  307  842  1052  1367   842\n",
              "310 2014-12-11    32    26    32    49  272  ...  303  307  842  1052  1472   737\n",
              "311 2014-12-18    32    28    32    50  272  ...  304  308  527  1367  1052   527\n",
              "\n",
              "[312 rows x 17 columns]"
            ]
          },
          "metadata": {},
          "execution_count": 6
        }
      ]
    },
    {
      "cell_type": "markdown",
      "metadata": {
        "id": "1qfx5Mo_q5Pn"
      },
      "source": [
        "OUTLIER DETECTION"
      ]
    },
    {
      "cell_type": "code",
      "metadata": {
        "id": "W4OdTQjR9yMY"
      },
      "source": [
        "df_no_outlier = pd.DataFrame(dataf)"
      ],
      "execution_count": null,
      "outputs": []
    },
    {
      "cell_type": "code",
      "metadata": {
        "id": "CpEsGi1Vu-KL"
      },
      "source": [
        "products = ['r1mw',\t'r2mw',\t'r3mw',\t'r4mw',\t'r1m',\t'r2m',\t'r3m',\t'r4m',\t'r1c',\t'r2c',\t'r3c',\t'r4c',\t'r1a',\t'r2a',\t'r3a',\t'r4a']\n",
        "for i in products:\n",
        "  Q1 = dataf[i].quantile(0.25)\n",
        "  Q3 = dataf[i].quantile(0.75)\n",
        "  IQR = Q3 - Q1\n",
        "  lower_limit = Q1 - 1.5*IQR\n",
        "  upper_limit = Q3 + 1.5*IQR\n",
        "  df_no_outlier[i] = dataf[i][(dataf[i]>lower_limit)&(dataf[i]<upper_limit)]"
      ],
      "execution_count": null,
      "outputs": []
    },
    {
      "cell_type": "code",
      "metadata": {
        "id": "44Tq3IXhxy82",
        "colab": {
          "base_uri": "https://localhost:8080/",
          "height": 424
        },
        "outputId": "42b4ccd9-14da-4772-cfa7-124e9eeafa4e"
      },
      "source": [
        "df_no_outlier"
      ],
      "execution_count": null,
      "outputs": [
        {
          "output_type": "execute_result",
          "data": {
            "text/html": [
              "<div>\n",
              "<style scoped>\n",
              "    .dataframe tbody tr th:only-of-type {\n",
              "        vertical-align: middle;\n",
              "    }\n",
              "\n",
              "    .dataframe tbody tr th {\n",
              "        vertical-align: top;\n",
              "    }\n",
              "\n",
              "    .dataframe thead th {\n",
              "        text-align: right;\n",
              "    }\n",
              "</style>\n",
              "<table border=\"1\" class=\"dataframe\">\n",
              "  <thead>\n",
              "    <tr style=\"text-align: right;\">\n",
              "      <th></th>\n",
              "      <th>Date</th>\n",
              "      <th>r1mw</th>\n",
              "      <th>r2mw</th>\n",
              "      <th>r3mw</th>\n",
              "      <th>r4mw</th>\n",
              "      <th>r1m</th>\n",
              "      <th>r2m</th>\n",
              "      <th>r3m</th>\n",
              "      <th>r4m</th>\n",
              "      <th>r1c</th>\n",
              "      <th>r2c</th>\n",
              "      <th>r3c</th>\n",
              "      <th>r4c</th>\n",
              "      <th>r1a</th>\n",
              "      <th>r2a</th>\n",
              "      <th>r3a</th>\n",
              "      <th>r4a</th>\n",
              "    </tr>\n",
              "  </thead>\n",
              "  <tbody>\n",
              "    <tr>\n",
              "      <th>0</th>\n",
              "      <td>2009-01-01</td>\n",
              "      <td>26.0</td>\n",
              "      <td>41</td>\n",
              "      <td>37</td>\n",
              "      <td>24</td>\n",
              "      <td>264.0</td>\n",
              "      <td>272</td>\n",
              "      <td>270.0</td>\n",
              "      <td>273</td>\n",
              "      <td>311.0</td>\n",
              "      <td>309.0</td>\n",
              "      <td>NaN</td>\n",
              "      <td>305.0</td>\n",
              "      <td>107</td>\n",
              "      <td>422.0</td>\n",
              "      <td>1367.0</td>\n",
              "      <td>632.0</td>\n",
              "    </tr>\n",
              "    <tr>\n",
              "      <th>1</th>\n",
              "      <td>2009-01-08</td>\n",
              "      <td>28.0</td>\n",
              "      <td>41</td>\n",
              "      <td>31</td>\n",
              "      <td>22</td>\n",
              "      <td>263.0</td>\n",
              "      <td>270</td>\n",
              "      <td>271.0</td>\n",
              "      <td>272</td>\n",
              "      <td>310.0</td>\n",
              "      <td>313.0</td>\n",
              "      <td>318.0</td>\n",
              "      <td>304.0</td>\n",
              "      <td>632</td>\n",
              "      <td>632.0</td>\n",
              "      <td>947.0</td>\n",
              "      <td>632.0</td>\n",
              "    </tr>\n",
              "    <tr>\n",
              "      <th>2</th>\n",
              "      <td>2009-01-15</td>\n",
              "      <td>29.0</td>\n",
              "      <td>36</td>\n",
              "      <td>27</td>\n",
              "      <td>22</td>\n",
              "      <td>265.0</td>\n",
              "      <td>272</td>\n",
              "      <td>271.0</td>\n",
              "      <td>269</td>\n",
              "      <td>311.0</td>\n",
              "      <td>310.0</td>\n",
              "      <td>309.0</td>\n",
              "      <td>305.0</td>\n",
              "      <td>737</td>\n",
              "      <td>737.0</td>\n",
              "      <td>947.0</td>\n",
              "      <td>1157.0</td>\n",
              "    </tr>\n",
              "    <tr>\n",
              "      <th>3</th>\n",
              "      <td>2009-01-22</td>\n",
              "      <td>28.0</td>\n",
              "      <td>35</td>\n",
              "      <td>28</td>\n",
              "      <td>25</td>\n",
              "      <td>266.0</td>\n",
              "      <td>274</td>\n",
              "      <td>271.0</td>\n",
              "      <td>270</td>\n",
              "      <td>312.0</td>\n",
              "      <td>311.0</td>\n",
              "      <td>308.0</td>\n",
              "      <td>309.0</td>\n",
              "      <td>317</td>\n",
              "      <td>737.0</td>\n",
              "      <td>737.0</td>\n",
              "      <td>1157.0</td>\n",
              "    </tr>\n",
              "    <tr>\n",
              "      <th>4</th>\n",
              "      <td>2009-01-29</td>\n",
              "      <td>26.0</td>\n",
              "      <td>31</td>\n",
              "      <td>25</td>\n",
              "      <td>28</td>\n",
              "      <td>267.0</td>\n",
              "      <td>269</td>\n",
              "      <td>270.0</td>\n",
              "      <td>271</td>\n",
              "      <td>309.0</td>\n",
              "      <td>309.0</td>\n",
              "      <td>304.0</td>\n",
              "      <td>311.0</td>\n",
              "      <td>947</td>\n",
              "      <td>842.0</td>\n",
              "      <td>1367.0</td>\n",
              "      <td>1157.0</td>\n",
              "    </tr>\n",
              "    <tr>\n",
              "      <th>...</th>\n",
              "      <td>...</td>\n",
              "      <td>...</td>\n",
              "      <td>...</td>\n",
              "      <td>...</td>\n",
              "      <td>...</td>\n",
              "      <td>...</td>\n",
              "      <td>...</td>\n",
              "      <td>...</td>\n",
              "      <td>...</td>\n",
              "      <td>...</td>\n",
              "      <td>...</td>\n",
              "      <td>...</td>\n",
              "      <td>...</td>\n",
              "      <td>...</td>\n",
              "      <td>...</td>\n",
              "      <td>...</td>\n",
              "      <td>...</td>\n",
              "    </tr>\n",
              "    <tr>\n",
              "      <th>307</th>\n",
              "      <td>2014-11-20</td>\n",
              "      <td>41.0</td>\n",
              "      <td>33</td>\n",
              "      <td>21</td>\n",
              "      <td>47</td>\n",
              "      <td>274.0</td>\n",
              "      <td>272</td>\n",
              "      <td>269.0</td>\n",
              "      <td>271</td>\n",
              "      <td>311.0</td>\n",
              "      <td>304.0</td>\n",
              "      <td>302.0</td>\n",
              "      <td>310.0</td>\n",
              "      <td>737</td>\n",
              "      <td>1262.0</td>\n",
              "      <td>1682.0</td>\n",
              "      <td>737.0</td>\n",
              "    </tr>\n",
              "    <tr>\n",
              "      <th>308</th>\n",
              "      <td>2014-11-27</td>\n",
              "      <td>40.0</td>\n",
              "      <td>27</td>\n",
              "      <td>24</td>\n",
              "      <td>45</td>\n",
              "      <td>271.0</td>\n",
              "      <td>272</td>\n",
              "      <td>268.0</td>\n",
              "      <td>267</td>\n",
              "      <td>310.0</td>\n",
              "      <td>304.0</td>\n",
              "      <td>303.0</td>\n",
              "      <td>307.0</td>\n",
              "      <td>737</td>\n",
              "      <td>842.0</td>\n",
              "      <td>1577.0</td>\n",
              "      <td>527.0</td>\n",
              "    </tr>\n",
              "    <tr>\n",
              "      <th>309</th>\n",
              "      <td>2014-12-04</td>\n",
              "      <td>38.0</td>\n",
              "      <td>26</td>\n",
              "      <td>28</td>\n",
              "      <td>45</td>\n",
              "      <td>269.0</td>\n",
              "      <td>270</td>\n",
              "      <td>265.0</td>\n",
              "      <td>267</td>\n",
              "      <td>307.0</td>\n",
              "      <td>304.0</td>\n",
              "      <td>303.0</td>\n",
              "      <td>307.0</td>\n",
              "      <td>842</td>\n",
              "      <td>1052.0</td>\n",
              "      <td>1367.0</td>\n",
              "      <td>842.0</td>\n",
              "    </tr>\n",
              "    <tr>\n",
              "      <th>310</th>\n",
              "      <td>2014-12-11</td>\n",
              "      <td>32.0</td>\n",
              "      <td>26</td>\n",
              "      <td>32</td>\n",
              "      <td>49</td>\n",
              "      <td>272.0</td>\n",
              "      <td>273</td>\n",
              "      <td>266.0</td>\n",
              "      <td>264</td>\n",
              "      <td>302.0</td>\n",
              "      <td>305.0</td>\n",
              "      <td>303.0</td>\n",
              "      <td>307.0</td>\n",
              "      <td>842</td>\n",
              "      <td>1052.0</td>\n",
              "      <td>1472.0</td>\n",
              "      <td>737.0</td>\n",
              "    </tr>\n",
              "    <tr>\n",
              "      <th>311</th>\n",
              "      <td>2014-12-18</td>\n",
              "      <td>32.0</td>\n",
              "      <td>28</td>\n",
              "      <td>32</td>\n",
              "      <td>50</td>\n",
              "      <td>272.0</td>\n",
              "      <td>272</td>\n",
              "      <td>265.0</td>\n",
              "      <td>270</td>\n",
              "      <td>307.0</td>\n",
              "      <td>302.0</td>\n",
              "      <td>304.0</td>\n",
              "      <td>308.0</td>\n",
              "      <td>527</td>\n",
              "      <td>1367.0</td>\n",
              "      <td>1052.0</td>\n",
              "      <td>527.0</td>\n",
              "    </tr>\n",
              "  </tbody>\n",
              "</table>\n",
              "<p>312 rows × 17 columns</p>\n",
              "</div>"
            ],
            "text/plain": [
              "          Date  r1mw  r2mw  r3mw  r4mw  ...    r4c  r1a     r2a     r3a     r4a\n",
              "0   2009-01-01  26.0    41    37    24  ...  305.0  107   422.0  1367.0   632.0\n",
              "1   2009-01-08  28.0    41    31    22  ...  304.0  632   632.0   947.0   632.0\n",
              "2   2009-01-15  29.0    36    27    22  ...  305.0  737   737.0   947.0  1157.0\n",
              "3   2009-01-22  28.0    35    28    25  ...  309.0  317   737.0   737.0  1157.0\n",
              "4   2009-01-29  26.0    31    25    28  ...  311.0  947   842.0  1367.0  1157.0\n",
              "..         ...   ...   ...   ...   ...  ...    ...  ...     ...     ...     ...\n",
              "307 2014-11-20  41.0    33    21    47  ...  310.0  737  1262.0  1682.0   737.0\n",
              "308 2014-11-27  40.0    27    24    45  ...  307.0  737   842.0  1577.0   527.0\n",
              "309 2014-12-04  38.0    26    28    45  ...  307.0  842  1052.0  1367.0   842.0\n",
              "310 2014-12-11  32.0    26    32    49  ...  307.0  842  1052.0  1472.0   737.0\n",
              "311 2014-12-18  32.0    28    32    50  ...  308.0  527  1367.0  1052.0   527.0\n",
              "\n",
              "[312 rows x 17 columns]"
            ]
          },
          "metadata": {},
          "execution_count": 9
        }
      ]
    },
    {
      "cell_type": "markdown",
      "metadata": {
        "id": "mY5CUlCw5Shm"
      },
      "source": [
        "ADJUSTMENT FOR OUTLIER MISSING VALUES"
      ]
    },
    {
      "cell_type": "code",
      "metadata": {
        "id": "7lxYBxlx87Ub"
      },
      "source": [
        "x = df_no_outlier.iloc[:, :].values"
      ],
      "execution_count": null,
      "outputs": []
    },
    {
      "cell_type": "code",
      "metadata": {
        "id": "DSTWnglo9lnL",
        "colab": {
          "base_uri": "https://localhost:8080/"
        },
        "outputId": "63027ff5-5902-4d38-a00d-62d1ab3aeef4"
      },
      "source": [
        "x[0][11]"
      ],
      "execution_count": null,
      "outputs": [
        {
          "output_type": "execute_result",
          "data": {
            "text/plain": [
              "nan"
            ]
          },
          "metadata": {},
          "execution_count": 11
        }
      ]
    },
    {
      "cell_type": "code",
      "metadata": {
        "id": "vpnluON95aOQ"
      },
      "source": [
        "from sklearn.impute import SimpleImputer\n",
        "imputer = SimpleImputer(missing_values=np.nan, strategy='mean')\n",
        "imputer.fit(x[:,1:])   #3 because last index is excuded\n",
        "x[:,1:] = imputer.transform(x[:,1:])"
      ],
      "execution_count": null,
      "outputs": []
    },
    {
      "cell_type": "code",
      "metadata": {
        "id": "NZof4rkw-OQN"
      },
      "source": [
        "products = ['Date', 'r1mw',\t'r2mw',\t'r3mw',\t'r4mw',\t'r1m',\t'r2m',\t'r3m',\t'r4m',\t'r1c',\t'r2c',\t'r3c',\t'r4c',\t'r1a',\t'r2a',\t'r3a',\t'r4a']\n",
        "df_clean = pd.DataFrame(x,columns=products)"
      ],
      "execution_count": null,
      "outputs": []
    },
    {
      "cell_type": "markdown",
      "metadata": {
        "id": "qYSIPYrB-kmZ"
      },
      "source": [
        "FINAL DATASET"
      ]
    },
    {
      "cell_type": "code",
      "metadata": {
        "id": "-B1c4fir_HPM",
        "colab": {
          "base_uri": "https://localhost:8080/",
          "height": 424
        },
        "outputId": "4d56eff7-343b-4425-8e62-4f5474d7038f"
      },
      "source": [
        "df_clean"
      ],
      "execution_count": null,
      "outputs": [
        {
          "output_type": "execute_result",
          "data": {
            "text/html": [
              "<div>\n",
              "<style scoped>\n",
              "    .dataframe tbody tr th:only-of-type {\n",
              "        vertical-align: middle;\n",
              "    }\n",
              "\n",
              "    .dataframe tbody tr th {\n",
              "        vertical-align: top;\n",
              "    }\n",
              "\n",
              "    .dataframe thead th {\n",
              "        text-align: right;\n",
              "    }\n",
              "</style>\n",
              "<table border=\"1\" class=\"dataframe\">\n",
              "  <thead>\n",
              "    <tr style=\"text-align: right;\">\n",
              "      <th></th>\n",
              "      <th>Date</th>\n",
              "      <th>r1mw</th>\n",
              "      <th>r2mw</th>\n",
              "      <th>r3mw</th>\n",
              "      <th>r4mw</th>\n",
              "      <th>r1m</th>\n",
              "      <th>r2m</th>\n",
              "      <th>r3m</th>\n",
              "      <th>r4m</th>\n",
              "      <th>r1c</th>\n",
              "      <th>r2c</th>\n",
              "      <th>r3c</th>\n",
              "      <th>r4c</th>\n",
              "      <th>r1a</th>\n",
              "      <th>r2a</th>\n",
              "      <th>r3a</th>\n",
              "      <th>r4a</th>\n",
              "    </tr>\n",
              "  </thead>\n",
              "  <tbody>\n",
              "    <tr>\n",
              "      <th>0</th>\n",
              "      <td>2009-01-01</td>\n",
              "      <td>26</td>\n",
              "      <td>41</td>\n",
              "      <td>37</td>\n",
              "      <td>24</td>\n",
              "      <td>264</td>\n",
              "      <td>272</td>\n",
              "      <td>270</td>\n",
              "      <td>273</td>\n",
              "      <td>311</td>\n",
              "      <td>309</td>\n",
              "      <td>311.01</td>\n",
              "      <td>305</td>\n",
              "      <td>107</td>\n",
              "      <td>422</td>\n",
              "      <td>1367</td>\n",
              "      <td>632</td>\n",
              "    </tr>\n",
              "    <tr>\n",
              "      <th>1</th>\n",
              "      <td>2009-01-08</td>\n",
              "      <td>28</td>\n",
              "      <td>41</td>\n",
              "      <td>31</td>\n",
              "      <td>22</td>\n",
              "      <td>263</td>\n",
              "      <td>270</td>\n",
              "      <td>271</td>\n",
              "      <td>272</td>\n",
              "      <td>310</td>\n",
              "      <td>313</td>\n",
              "      <td>318</td>\n",
              "      <td>304</td>\n",
              "      <td>632</td>\n",
              "      <td>632</td>\n",
              "      <td>947</td>\n",
              "      <td>632</td>\n",
              "    </tr>\n",
              "    <tr>\n",
              "      <th>2</th>\n",
              "      <td>2009-01-15</td>\n",
              "      <td>29</td>\n",
              "      <td>36</td>\n",
              "      <td>27</td>\n",
              "      <td>22</td>\n",
              "      <td>265</td>\n",
              "      <td>272</td>\n",
              "      <td>271</td>\n",
              "      <td>269</td>\n",
              "      <td>311</td>\n",
              "      <td>310</td>\n",
              "      <td>309</td>\n",
              "      <td>305</td>\n",
              "      <td>737</td>\n",
              "      <td>737</td>\n",
              "      <td>947</td>\n",
              "      <td>1157</td>\n",
              "    </tr>\n",
              "    <tr>\n",
              "      <th>3</th>\n",
              "      <td>2009-01-22</td>\n",
              "      <td>28</td>\n",
              "      <td>35</td>\n",
              "      <td>28</td>\n",
              "      <td>25</td>\n",
              "      <td>266</td>\n",
              "      <td>274</td>\n",
              "      <td>271</td>\n",
              "      <td>270</td>\n",
              "      <td>312</td>\n",
              "      <td>311</td>\n",
              "      <td>308</td>\n",
              "      <td>309</td>\n",
              "      <td>317</td>\n",
              "      <td>737</td>\n",
              "      <td>737</td>\n",
              "      <td>1157</td>\n",
              "    </tr>\n",
              "    <tr>\n",
              "      <th>4</th>\n",
              "      <td>2009-01-29</td>\n",
              "      <td>26</td>\n",
              "      <td>31</td>\n",
              "      <td>25</td>\n",
              "      <td>28</td>\n",
              "      <td>267</td>\n",
              "      <td>269</td>\n",
              "      <td>270</td>\n",
              "      <td>271</td>\n",
              "      <td>309</td>\n",
              "      <td>309</td>\n",
              "      <td>304</td>\n",
              "      <td>311</td>\n",
              "      <td>947</td>\n",
              "      <td>842</td>\n",
              "      <td>1367</td>\n",
              "      <td>1157</td>\n",
              "    </tr>\n",
              "    <tr>\n",
              "      <th>...</th>\n",
              "      <td>...</td>\n",
              "      <td>...</td>\n",
              "      <td>...</td>\n",
              "      <td>...</td>\n",
              "      <td>...</td>\n",
              "      <td>...</td>\n",
              "      <td>...</td>\n",
              "      <td>...</td>\n",
              "      <td>...</td>\n",
              "      <td>...</td>\n",
              "      <td>...</td>\n",
              "      <td>...</td>\n",
              "      <td>...</td>\n",
              "      <td>...</td>\n",
              "      <td>...</td>\n",
              "      <td>...</td>\n",
              "      <td>...</td>\n",
              "    </tr>\n",
              "    <tr>\n",
              "      <th>307</th>\n",
              "      <td>2014-11-20</td>\n",
              "      <td>41</td>\n",
              "      <td>33</td>\n",
              "      <td>21</td>\n",
              "      <td>47</td>\n",
              "      <td>274</td>\n",
              "      <td>272</td>\n",
              "      <td>269</td>\n",
              "      <td>271</td>\n",
              "      <td>311</td>\n",
              "      <td>304</td>\n",
              "      <td>302</td>\n",
              "      <td>310</td>\n",
              "      <td>737</td>\n",
              "      <td>1262</td>\n",
              "      <td>1682</td>\n",
              "      <td>737</td>\n",
              "    </tr>\n",
              "    <tr>\n",
              "      <th>308</th>\n",
              "      <td>2014-11-27</td>\n",
              "      <td>40</td>\n",
              "      <td>27</td>\n",
              "      <td>24</td>\n",
              "      <td>45</td>\n",
              "      <td>271</td>\n",
              "      <td>272</td>\n",
              "      <td>268</td>\n",
              "      <td>267</td>\n",
              "      <td>310</td>\n",
              "      <td>304</td>\n",
              "      <td>303</td>\n",
              "      <td>307</td>\n",
              "      <td>737</td>\n",
              "      <td>842</td>\n",
              "      <td>1577</td>\n",
              "      <td>527</td>\n",
              "    </tr>\n",
              "    <tr>\n",
              "      <th>309</th>\n",
              "      <td>2014-12-04</td>\n",
              "      <td>38</td>\n",
              "      <td>26</td>\n",
              "      <td>28</td>\n",
              "      <td>45</td>\n",
              "      <td>269</td>\n",
              "      <td>270</td>\n",
              "      <td>265</td>\n",
              "      <td>267</td>\n",
              "      <td>307</td>\n",
              "      <td>304</td>\n",
              "      <td>303</td>\n",
              "      <td>307</td>\n",
              "      <td>842</td>\n",
              "      <td>1052</td>\n",
              "      <td>1367</td>\n",
              "      <td>842</td>\n",
              "    </tr>\n",
              "    <tr>\n",
              "      <th>310</th>\n",
              "      <td>2014-12-11</td>\n",
              "      <td>32</td>\n",
              "      <td>26</td>\n",
              "      <td>32</td>\n",
              "      <td>49</td>\n",
              "      <td>272</td>\n",
              "      <td>273</td>\n",
              "      <td>266</td>\n",
              "      <td>264</td>\n",
              "      <td>302</td>\n",
              "      <td>305</td>\n",
              "      <td>303</td>\n",
              "      <td>307</td>\n",
              "      <td>842</td>\n",
              "      <td>1052</td>\n",
              "      <td>1472</td>\n",
              "      <td>737</td>\n",
              "    </tr>\n",
              "    <tr>\n",
              "      <th>311</th>\n",
              "      <td>2014-12-18</td>\n",
              "      <td>32</td>\n",
              "      <td>28</td>\n",
              "      <td>32</td>\n",
              "      <td>50</td>\n",
              "      <td>272</td>\n",
              "      <td>272</td>\n",
              "      <td>265</td>\n",
              "      <td>270</td>\n",
              "      <td>307</td>\n",
              "      <td>302</td>\n",
              "      <td>304</td>\n",
              "      <td>308</td>\n",
              "      <td>527</td>\n",
              "      <td>1367</td>\n",
              "      <td>1052</td>\n",
              "      <td>527</td>\n",
              "    </tr>\n",
              "  </tbody>\n",
              "</table>\n",
              "<p>312 rows × 17 columns</p>\n",
              "</div>"
            ],
            "text/plain": [
              "          Date r1mw r2mw r3mw r4mw  r1m  ...     r3c  r4c  r1a   r2a   r3a   r4a\n",
              "0   2009-01-01   26   41   37   24  264  ...  311.01  305  107   422  1367   632\n",
              "1   2009-01-08   28   41   31   22  263  ...     318  304  632   632   947   632\n",
              "2   2009-01-15   29   36   27   22  265  ...     309  305  737   737   947  1157\n",
              "3   2009-01-22   28   35   28   25  266  ...     308  309  317   737   737  1157\n",
              "4   2009-01-29   26   31   25   28  267  ...     304  311  947   842  1367  1157\n",
              "..         ...  ...  ...  ...  ...  ...  ...     ...  ...  ...   ...   ...   ...\n",
              "307 2014-11-20   41   33   21   47  274  ...     302  310  737  1262  1682   737\n",
              "308 2014-11-27   40   27   24   45  271  ...     303  307  737   842  1577   527\n",
              "309 2014-12-04   38   26   28   45  269  ...     303  307  842  1052  1367   842\n",
              "310 2014-12-11   32   26   32   49  272  ...     303  307  842  1052  1472   737\n",
              "311 2014-12-18   32   28   32   50  272  ...     304  308  527  1367  1052   527\n",
              "\n",
              "[312 rows x 17 columns]"
            ]
          },
          "metadata": {},
          "execution_count": 14
        }
      ]
    },
    {
      "cell_type": "code",
      "metadata": {
        "id": "63AQnuuWAflK"
      },
      "source": [
        "products = ['r1mw',\t'r2mw',\t'r3mw',\t'r4mw',\t'r1m',\t'r2m',\t'r3m',\t'r4m',\t'r1c',\t'r2c',\t'r3c',\t'r4c',\t'r1a',\t'r2a',\t'r3a',\t'r4a']\n",
        "for i in products:\n",
        "  df_clean[i] = pd.to_numeric(df_clean[i])"
      ],
      "execution_count": null,
      "outputs": []
    },
    {
      "cell_type": "code",
      "metadata": {
        "id": "D6jYzWOGEZYO",
        "colab": {
          "base_uri": "https://localhost:8080/"
        },
        "outputId": "007d21be-4d80-4b8b-e37f-6b45fbf550a2"
      },
      "source": [
        "df_clean.dtypes"
      ],
      "execution_count": null,
      "outputs": [
        {
          "output_type": "execute_result",
          "data": {
            "text/plain": [
              "Date    datetime64[ns]\n",
              "r1mw           float64\n",
              "r2mw           float64\n",
              "r3mw           float64\n",
              "r4mw           float64\n",
              "r1m            float64\n",
              "r2m            float64\n",
              "r3m            float64\n",
              "r4m            float64\n",
              "r1c            float64\n",
              "r2c            float64\n",
              "r3c            float64\n",
              "r4c            float64\n",
              "r1a            float64\n",
              "r2a            float64\n",
              "r3a            float64\n",
              "r4a            float64\n",
              "dtype: object"
            ]
          },
          "metadata": {},
          "execution_count": 16
        }
      ]
    },
    {
      "cell_type": "markdown",
      "metadata": {
        "id": "WDiEOCUTmMIy"
      },
      "source": [
        "ARIMA FITTER"
      ]
    },
    {
      "cell_type": "code",
      "metadata": {
        "id": "Dwg9hs9SG6uv",
        "colab": {
          "base_uri": "https://localhost:8080/"
        },
        "outputId": "6b0dccb3-f63d-4024-86d7-f626090a7c58"
      },
      "source": [
        "pip install pmdarima"
      ],
      "execution_count": null,
      "outputs": [
        {
          "output_type": "stream",
          "name": "stdout",
          "text": [
            "Requirement already satisfied: pmdarima in /usr/local/lib/python3.7/dist-packages (1.8.3)\n",
            "Requirement already satisfied: joblib>=0.11 in /usr/local/lib/python3.7/dist-packages (from pmdarima) (1.0.1)\n",
            "Requirement already satisfied: setuptools!=50.0.0,>=38.6.0 in /usr/local/lib/python3.7/dist-packages (from pmdarima) (57.4.0)\n",
            "Requirement already satisfied: Cython!=0.29.18,>=0.29 in /usr/local/lib/python3.7/dist-packages (from pmdarima) (0.29.24)\n",
            "Requirement already satisfied: scipy>=1.3.2 in /usr/local/lib/python3.7/dist-packages (from pmdarima) (1.4.1)\n",
            "Requirement already satisfied: scikit-learn>=0.22 in /usr/local/lib/python3.7/dist-packages (from pmdarima) (0.22.2.post1)\n",
            "Requirement already satisfied: urllib3 in /usr/local/lib/python3.7/dist-packages (from pmdarima) (1.24.3)\n",
            "Requirement already satisfied: statsmodels!=0.12.0,>=0.11 in /usr/local/lib/python3.7/dist-packages (from pmdarima) (0.12.2)\n",
            "Requirement already satisfied: numpy>=1.19.3 in /usr/local/lib/python3.7/dist-packages (from pmdarima) (1.19.5)\n",
            "Requirement already satisfied: pandas>=0.19 in /usr/local/lib/python3.7/dist-packages (from pmdarima) (1.1.5)\n",
            "Requirement already satisfied: pytz>=2017.2 in /usr/local/lib/python3.7/dist-packages (from pandas>=0.19->pmdarima) (2018.9)\n",
            "Requirement already satisfied: python-dateutil>=2.7.3 in /usr/local/lib/python3.7/dist-packages (from pandas>=0.19->pmdarima) (2.8.2)\n",
            "Requirement already satisfied: six>=1.5 in /usr/local/lib/python3.7/dist-packages (from python-dateutil>=2.7.3->pandas>=0.19->pmdarima) (1.15.0)\n",
            "Requirement already satisfied: patsy>=0.5 in /usr/local/lib/python3.7/dist-packages (from statsmodels!=0.12.0,>=0.11->pmdarima) (0.5.1)\n"
          ]
        }
      ]
    },
    {
      "cell_type": "code",
      "metadata": {
        "id": "jwY6POstsKTk"
      },
      "source": [
        "from pmdarima import auto_arima\n",
        "# Ignore harmless warnings\n",
        "import warnings\n",
        "warnings.filterwarnings(\"ignore\")"
      ],
      "execution_count": null,
      "outputs": []
    },
    {
      "cell_type": "code",
      "metadata": {
        "id": "iQg381i1SRLd"
      },
      "source": [
        "orders = np.empty((16,3))"
      ],
      "execution_count": null,
      "outputs": []
    },
    {
      "cell_type": "code",
      "metadata": {
        "colab": {
          "base_uri": "https://localhost:8080/"
        },
        "id": "B40vFk1DUxJg",
        "outputId": "d011e16b-d633-4750-ac1b-998318c9834b"
      },
      "source": [
        "orders[1]"
      ],
      "execution_count": null,
      "outputs": [
        {
          "output_type": "execute_result",
          "data": {
            "text/plain": [
              "array([0, 1, 0])"
            ]
          },
          "metadata": {},
          "execution_count": 143
        }
      ]
    },
    {
      "cell_type": "code",
      "metadata": {
        "colab": {
          "base_uri": "https://localhost:8080/"
        },
        "id": "85hDYnE0Ee3a",
        "outputId": "b1d6525f-aaa1-4d1d-a0dd-a860f9368c21"
      },
      "source": [
        "a=0\n",
        "for i in products:\n",
        "  print(i)\n",
        "  stepwise_fit = auto_arima(df_clean[i],trace=True, suppress_warnings=True)           \n",
        "  orders[a] = stepwise_fit.order\n",
        "  a=a+1"
      ],
      "execution_count": null,
      "outputs": [
        {
          "output_type": "stream",
          "name": "stdout",
          "text": [
            "r1mw\n",
            "Performing stepwise search to minimize aic\n",
            " ARIMA(2,0,2)(0,0,0)[0] intercept   : AIC=1831.957, Time=0.91 sec\n",
            " ARIMA(0,0,0)(0,0,0)[0] intercept   : AIC=2179.130, Time=0.03 sec\n",
            " ARIMA(1,0,0)(0,0,0)[0] intercept   : AIC=1831.068, Time=0.12 sec\n",
            " ARIMA(0,0,1)(0,0,0)[0] intercept   : AIC=1974.965, Time=0.13 sec\n",
            " ARIMA(0,0,0)(0,0,0)[0]             : AIC=3087.946, Time=0.01 sec\n",
            " ARIMA(2,0,0)(0,0,0)[0] intercept   : AIC=1831.981, Time=0.12 sec\n",
            " ARIMA(1,0,1)(0,0,0)[0] intercept   : AIC=1832.174, Time=0.21 sec\n",
            " ARIMA(2,0,1)(0,0,0)[0] intercept   : AIC=1829.758, Time=0.65 sec\n",
            " ARIMA(3,0,1)(0,0,0)[0] intercept   : AIC=1830.789, Time=0.73 sec\n",
            " ARIMA(1,0,2)(0,0,0)[0] intercept   : AIC=1832.105, Time=0.31 sec\n",
            " ARIMA(3,0,0)(0,0,0)[0] intercept   : AIC=1831.355, Time=0.15 sec\n",
            " ARIMA(3,0,2)(0,0,0)[0] intercept   : AIC=1833.094, Time=0.87 sec\n",
            " ARIMA(2,0,1)(0,0,0)[0]             : AIC=1863.523, Time=0.07 sec\n",
            "\n",
            "Best model:  ARIMA(2,0,1)(0,0,0)[0] intercept\n",
            "Total fit time: 4.370 seconds\n",
            "r2mw\n",
            "Performing stepwise search to minimize aic\n",
            " ARIMA(2,1,2)(0,0,0)[0] intercept   : AIC=inf, Time=0.88 sec\n",
            " ARIMA(0,1,0)(0,0,0)[0] intercept   : AIC=1832.160, Time=0.02 sec\n",
            " ARIMA(1,1,0)(0,0,0)[0] intercept   : AIC=1833.790, Time=0.06 sec\n",
            " ARIMA(0,1,1)(0,0,0)[0] intercept   : AIC=1833.838, Time=0.07 sec\n",
            " ARIMA(0,1,0)(0,0,0)[0]             : AIC=1830.186, Time=0.02 sec\n",
            " ARIMA(1,1,1)(0,0,0)[0] intercept   : AIC=1834.376, Time=0.18 sec\n",
            "\n",
            "Best model:  ARIMA(0,1,0)(0,0,0)[0]          \n",
            "Total fit time: 1.237 seconds\n",
            "r3mw\n",
            "Performing stepwise search to minimize aic\n",
            " ARIMA(2,0,2)(0,0,0)[0] intercept   : AIC=1798.944, Time=0.80 sec\n",
            " ARIMA(0,0,0)(0,0,0)[0] intercept   : AIC=2249.778, Time=0.02 sec\n",
            " ARIMA(1,0,0)(0,0,0)[0] intercept   : AIC=1802.632, Time=0.10 sec\n",
            " ARIMA(0,0,1)(0,0,0)[0] intercept   : AIC=2016.762, Time=0.13 sec\n",
            " ARIMA(0,0,0)(0,0,0)[0]             : AIC=3118.910, Time=0.01 sec\n",
            " ARIMA(1,0,2)(0,0,0)[0] intercept   : AIC=1803.768, Time=0.37 sec\n",
            " ARIMA(2,0,1)(0,0,0)[0] intercept   : AIC=1799.213, Time=0.64 sec\n",
            " ARIMA(3,0,2)(0,0,0)[0] intercept   : AIC=inf, Time=0.98 sec\n",
            " ARIMA(2,0,3)(0,0,0)[0] intercept   : AIC=1797.151, Time=0.56 sec\n",
            " ARIMA(1,0,3)(0,0,0)[0] intercept   : AIC=1803.074, Time=0.32 sec\n",
            " ARIMA(3,0,3)(0,0,0)[0] intercept   : AIC=1797.677, Time=1.08 sec\n",
            " ARIMA(2,0,4)(0,0,0)[0] intercept   : AIC=1796.449, Time=0.87 sec\n",
            " ARIMA(1,0,4)(0,0,0)[0] intercept   : AIC=1796.035, Time=0.42 sec\n",
            " ARIMA(0,0,4)(0,0,0)[0] intercept   : AIC=1839.722, Time=0.37 sec\n",
            " ARIMA(1,0,5)(0,0,0)[0] intercept   : AIC=1796.661, Time=0.52 sec\n",
            " ARIMA(0,0,3)(0,0,0)[0] intercept   : AIC=1867.503, Time=0.25 sec\n",
            " ARIMA(0,0,5)(0,0,0)[0] intercept   : AIC=1813.548, Time=0.49 sec\n",
            " ARIMA(2,0,5)(0,0,0)[0] intercept   : AIC=1798.460, Time=0.41 sec\n",
            " ARIMA(1,0,4)(0,0,0)[0]             : AIC=1828.955, Time=0.24 sec\n",
            "\n",
            "Best model:  ARIMA(1,0,4)(0,0,0)[0] intercept\n",
            "Total fit time: 8.610 seconds\n",
            "r4mw\n",
            "Performing stepwise search to minimize aic\n",
            " ARIMA(2,1,2)(0,0,0)[0] intercept   : AIC=inf, Time=0.83 sec\n",
            " ARIMA(0,1,0)(0,0,0)[0] intercept   : AIC=1787.249, Time=0.02 sec\n",
            " ARIMA(1,1,0)(0,0,0)[0] intercept   : AIC=1789.237, Time=0.07 sec\n",
            " ARIMA(0,1,1)(0,0,0)[0] intercept   : AIC=1789.236, Time=0.07 sec\n",
            " ARIMA(0,1,0)(0,0,0)[0]             : AIC=1785.369, Time=0.02 sec\n",
            " ARIMA(1,1,1)(0,0,0)[0] intercept   : AIC=1788.661, Time=0.33 sec\n",
            "\n",
            "Best model:  ARIMA(0,1,0)(0,0,0)[0]          \n",
            "Total fit time: 1.353 seconds\n",
            "r1m\n",
            "Performing stepwise search to minimize aic\n",
            " ARIMA(2,0,2)(0,0,0)[0] intercept   : AIC=1376.188, Time=0.82 sec\n",
            " ARIMA(0,0,0)(0,0,0)[0] intercept   : AIC=1592.606, Time=0.02 sec\n",
            " ARIMA(1,0,0)(0,0,0)[0] intercept   : AIC=1396.036, Time=0.11 sec\n",
            " ARIMA(0,0,1)(0,0,0)[0] intercept   : AIC=1477.640, Time=0.08 sec\n",
            " ARIMA(0,0,0)(0,0,0)[0]             : AIC=4377.670, Time=0.01 sec\n",
            " ARIMA(1,0,2)(0,0,0)[0] intercept   : AIC=1378.109, Time=0.36 sec\n",
            " ARIMA(2,0,1)(0,0,0)[0] intercept   : AIC=1377.632, Time=0.47 sec\n",
            " ARIMA(3,0,2)(0,0,0)[0] intercept   : AIC=1376.050, Time=0.72 sec\n",
            " ARIMA(3,0,1)(0,0,0)[0] intercept   : AIC=1374.450, Time=0.58 sec\n",
            " ARIMA(3,0,0)(0,0,0)[0] intercept   : AIC=1372.497, Time=0.17 sec\n",
            " ARIMA(2,0,0)(0,0,0)[0] intercept   : AIC=1379.101, Time=0.16 sec\n",
            " ARIMA(4,0,0)(0,0,0)[0] intercept   : AIC=1374.472, Time=0.24 sec\n",
            " ARIMA(4,0,1)(0,0,0)[0] intercept   : AIC=1376.450, Time=1.44 sec\n",
            " ARIMA(3,0,0)(0,0,0)[0]             : AIC=inf, Time=0.35 sec\n",
            "\n",
            "Best model:  ARIMA(3,0,0)(0,0,0)[0] intercept\n",
            "Total fit time: 5.555 seconds\n",
            "r2m\n",
            "Performing stepwise search to minimize aic\n",
            " ARIMA(2,0,2)(0,0,0)[0] intercept   : AIC=1430.041, Time=0.94 sec\n",
            " ARIMA(0,0,0)(0,0,0)[0] intercept   : AIC=1611.870, Time=0.02 sec\n",
            " ARIMA(1,0,0)(0,0,0)[0] intercept   : AIC=1436.046, Time=0.11 sec\n",
            " ARIMA(0,0,1)(0,0,0)[0] intercept   : AIC=1507.239, Time=0.09 sec\n",
            " ARIMA(0,0,0)(0,0,0)[0]             : AIC=4379.957, Time=0.01 sec\n",
            " ARIMA(1,0,2)(0,0,0)[0] intercept   : AIC=1424.730, Time=0.28 sec\n",
            " ARIMA(0,0,2)(0,0,0)[0] intercept   : AIC=1470.205, Time=0.14 sec\n",
            " ARIMA(1,0,1)(0,0,0)[0] intercept   : AIC=1421.213, Time=0.60 sec\n",
            " ARIMA(2,0,1)(0,0,0)[0] intercept   : AIC=1424.054, Time=0.49 sec\n",
            " ARIMA(2,0,0)(0,0,0)[0] intercept   : AIC=1423.311, Time=0.07 sec\n",
            " ARIMA(1,0,1)(0,0,0)[0]             : AIC=1449.047, Time=0.04 sec\n",
            "\n",
            "Best model:  ARIMA(1,0,1)(0,0,0)[0] intercept\n",
            "Total fit time: 2.808 seconds\n",
            "r3m\n",
            "Performing stepwise search to minimize aic\n",
            " ARIMA(2,0,2)(0,0,0)[0] intercept   : AIC=1420.789, Time=0.88 sec\n",
            " ARIMA(0,0,0)(0,0,0)[0] intercept   : AIC=1599.297, Time=0.02 sec\n",
            " ARIMA(1,0,0)(0,0,0)[0] intercept   : AIC=1434.704, Time=0.24 sec\n",
            " ARIMA(0,0,1)(0,0,0)[0] intercept   : AIC=1500.009, Time=0.08 sec\n",
            " ARIMA(0,0,0)(0,0,0)[0]             : AIC=4378.978, Time=0.01 sec\n",
            " ARIMA(1,0,2)(0,0,0)[0] intercept   : AIC=1419.499, Time=0.79 sec\n",
            " ARIMA(0,0,2)(0,0,0)[0] intercept   : AIC=1463.903, Time=0.14 sec\n",
            " ARIMA(1,0,1)(0,0,0)[0] intercept   : AIC=1421.593, Time=0.14 sec\n",
            " ARIMA(1,0,3)(0,0,0)[0] intercept   : AIC=1421.814, Time=0.69 sec\n",
            " ARIMA(0,0,3)(0,0,0)[0] intercept   : AIC=1453.118, Time=0.17 sec\n",
            " ARIMA(2,0,1)(0,0,0)[0] intercept   : AIC=1421.662, Time=0.39 sec\n",
            " ARIMA(2,0,3)(0,0,0)[0] intercept   : AIC=1419.847, Time=0.96 sec\n",
            " ARIMA(1,0,2)(0,0,0)[0]             : AIC=1444.784, Time=0.18 sec\n",
            "\n",
            "Best model:  ARIMA(1,0,2)(0,0,0)[0] intercept\n",
            "Total fit time: 4.714 seconds\n",
            "r4m\n",
            "Performing stepwise search to minimize aic\n",
            " ARIMA(2,0,2)(0,0,0)[0] intercept   : AIC=1455.502, Time=0.85 sec\n",
            " ARIMA(0,0,0)(0,0,0)[0] intercept   : AIC=1594.414, Time=0.02 sec\n",
            " ARIMA(1,0,0)(0,0,0)[0] intercept   : AIC=1460.139, Time=0.11 sec\n",
            " ARIMA(0,0,1)(0,0,0)[0] intercept   : AIC=1515.105, Time=0.10 sec\n",
            " ARIMA(0,0,0)(0,0,0)[0]             : AIC=4377.912, Time=0.01 sec\n",
            " ARIMA(1,0,2)(0,0,0)[0] intercept   : AIC=1436.465, Time=0.33 sec\n",
            " ARIMA(0,0,2)(0,0,0)[0] intercept   : AIC=1486.141, Time=0.13 sec\n",
            " ARIMA(1,0,1)(0,0,0)[0] intercept   : AIC=1434.206, Time=0.62 sec\n",
            " ARIMA(2,0,1)(0,0,0)[0] intercept   : AIC=1435.849, Time=0.65 sec\n",
            " ARIMA(2,0,0)(0,0,0)[0] intercept   : AIC=1437.588, Time=0.09 sec\n",
            " ARIMA(1,0,1)(0,0,0)[0]             : AIC=1456.068, Time=0.13 sec\n",
            "\n",
            "Best model:  ARIMA(1,0,1)(0,0,0)[0] intercept\n",
            "Total fit time: 3.051 seconds\n",
            "r1c\n",
            "Performing stepwise search to minimize aic\n",
            " ARIMA(2,0,2)(0,0,0)[0] intercept   : AIC=1728.501, Time=0.39 sec\n",
            " ARIMA(0,0,0)(0,0,0)[0] intercept   : AIC=1929.838, Time=0.02 sec\n",
            " ARIMA(1,0,0)(0,0,0)[0] intercept   : AIC=1732.332, Time=0.25 sec\n",
            " ARIMA(0,0,1)(0,0,0)[0] intercept   : AIC=1802.442, Time=0.09 sec\n",
            " ARIMA(0,0,0)(0,0,0)[0]             : AIC=4467.061, Time=0.02 sec\n",
            " ARIMA(1,0,2)(0,0,0)[0] intercept   : AIC=1729.034, Time=0.43 sec\n",
            " ARIMA(2,0,1)(0,0,0)[0] intercept   : AIC=1728.449, Time=0.45 sec\n",
            " ARIMA(1,0,1)(0,0,0)[0] intercept   : AIC=1727.311, Time=0.23 sec\n",
            " ARIMA(0,0,2)(0,0,0)[0] intercept   : AIC=1778.492, Time=0.12 sec\n",
            " ARIMA(2,0,0)(0,0,0)[0] intercept   : AIC=1727.106, Time=0.07 sec\n",
            " ARIMA(3,0,0)(0,0,0)[0] intercept   : AIC=1726.541, Time=0.09 sec\n",
            " ARIMA(4,0,0)(0,0,0)[0] intercept   : AIC=1721.863, Time=0.11 sec\n",
            " ARIMA(5,0,0)(0,0,0)[0] intercept   : AIC=1722.649, Time=0.13 sec\n",
            " ARIMA(4,0,1)(0,0,0)[0] intercept   : AIC=1723.856, Time=0.78 sec\n",
            " ARIMA(3,0,1)(0,0,0)[0] intercept   : AIC=1727.665, Time=0.86 sec\n",
            " ARIMA(5,0,1)(0,0,0)[0] intercept   : AIC=1724.037, Time=1.59 sec\n",
            " ARIMA(4,0,0)(0,0,0)[0]             : AIC=inf, Time=0.19 sec\n",
            "\n",
            "Best model:  ARIMA(4,0,0)(0,0,0)[0] intercept\n",
            "Total fit time: 5.858 seconds\n",
            "r2c\n",
            "Performing stepwise search to minimize aic\n",
            " ARIMA(2,1,2)(0,0,0)[0] intercept   : AIC=inf, Time=0.85 sec\n",
            " ARIMA(0,1,0)(0,0,0)[0] intercept   : AIC=1725.958, Time=0.02 sec\n",
            " ARIMA(1,1,0)(0,0,0)[0] intercept   : AIC=1700.259, Time=0.06 sec\n",
            " ARIMA(0,1,1)(0,0,0)[0] intercept   : AIC=1700.281, Time=0.07 sec\n",
            " ARIMA(0,1,0)(0,0,0)[0]             : AIC=1723.969, Time=0.02 sec\n",
            " ARIMA(2,1,0)(0,0,0)[0] intercept   : AIC=1701.941, Time=0.11 sec\n",
            " ARIMA(1,1,1)(0,0,0)[0] intercept   : AIC=1701.842, Time=0.12 sec\n",
            " ARIMA(2,1,1)(0,0,0)[0] intercept   : AIC=inf, Time=0.77 sec\n",
            " ARIMA(1,1,0)(0,0,0)[0]             : AIC=1698.279, Time=0.03 sec\n",
            " ARIMA(2,1,0)(0,0,0)[0]             : AIC=1699.963, Time=0.05 sec\n",
            " ARIMA(1,1,1)(0,0,0)[0]             : AIC=1699.864, Time=0.06 sec\n",
            " ARIMA(0,1,1)(0,0,0)[0]             : AIC=1698.305, Time=0.04 sec\n",
            " ARIMA(2,1,1)(0,0,0)[0]             : AIC=inf, Time=0.31 sec\n",
            "\n",
            "Best model:  ARIMA(1,1,0)(0,0,0)[0]          \n",
            "Total fit time: 2.537 seconds\n",
            "r3c\n",
            "Performing stepwise search to minimize aic\n",
            " ARIMA(2,1,2)(0,0,0)[0] intercept   : AIC=inf, Time=0.96 sec\n",
            " ARIMA(0,1,0)(0,0,0)[0] intercept   : AIC=1836.438, Time=0.02 sec\n",
            " ARIMA(1,1,0)(0,0,0)[0] intercept   : AIC=1828.935, Time=0.07 sec\n",
            " ARIMA(0,1,1)(0,0,0)[0] intercept   : AIC=1827.510, Time=0.06 sec\n",
            " ARIMA(0,1,0)(0,0,0)[0]             : AIC=1834.445, Time=0.02 sec\n",
            " ARIMA(1,1,1)(0,0,0)[0] intercept   : AIC=inf, Time=0.50 sec\n",
            " ARIMA(0,1,2)(0,0,0)[0] intercept   : AIC=1827.993, Time=0.11 sec\n",
            " ARIMA(1,1,2)(0,0,0)[0] intercept   : AIC=inf, Time=0.77 sec\n",
            " ARIMA(0,1,1)(0,0,0)[0]             : AIC=1825.527, Time=0.03 sec\n",
            " ARIMA(1,1,1)(0,0,0)[0]             : AIC=1804.684, Time=0.14 sec\n",
            " ARIMA(1,1,0)(0,0,0)[0]             : AIC=1826.950, Time=0.04 sec\n",
            " ARIMA(2,1,1)(0,0,0)[0]             : AIC=1805.776, Time=0.20 sec\n",
            " ARIMA(1,1,2)(0,0,0)[0]             : AIC=1805.879, Time=0.19 sec\n",
            " ARIMA(0,1,2)(0,0,0)[0]             : AIC=1826.012, Time=0.06 sec\n",
            " ARIMA(2,1,0)(0,0,0)[0]             : AIC=1827.774, Time=0.07 sec\n",
            " ARIMA(2,1,2)(0,0,0)[0]             : AIC=1806.774, Time=0.28 sec\n",
            "\n",
            "Best model:  ARIMA(1,1,1)(0,0,0)[0]          \n",
            "Total fit time: 3.544 seconds\n",
            "r4c\n",
            "Performing stepwise search to minimize aic\n",
            " ARIMA(2,1,2)(0,0,0)[0] intercept   : AIC=inf, Time=0.77 sec\n",
            " ARIMA(0,1,0)(0,0,0)[0] intercept   : AIC=1841.101, Time=0.02 sec\n",
            " ARIMA(1,1,0)(0,0,0)[0] intercept   : AIC=1815.851, Time=0.06 sec\n",
            " ARIMA(0,1,1)(0,0,0)[0] intercept   : AIC=1809.075, Time=0.08 sec\n",
            " ARIMA(0,1,0)(0,0,0)[0]             : AIC=1839.103, Time=0.02 sec\n",
            " ARIMA(1,1,1)(0,0,0)[0] intercept   : AIC=inf, Time=0.65 sec\n",
            " ARIMA(0,1,2)(0,0,0)[0] intercept   : AIC=1810.249, Time=0.12 sec\n",
            " ARIMA(1,1,2)(0,0,0)[0] intercept   : AIC=inf, Time=0.40 sec\n",
            " ARIMA(0,1,1)(0,0,0)[0]             : AIC=1807.077, Time=0.04 sec\n",
            " ARIMA(1,1,1)(0,0,0)[0]             : AIC=1794.873, Time=0.22 sec\n",
            " ARIMA(1,1,0)(0,0,0)[0]             : AIC=1813.853, Time=0.04 sec\n",
            " ARIMA(2,1,1)(0,0,0)[0]             : AIC=1790.181, Time=0.25 sec\n",
            " ARIMA(2,1,0)(0,0,0)[0]             : AIC=1809.251, Time=0.06 sec\n",
            " ARIMA(3,1,1)(0,0,0)[0]             : AIC=1791.639, Time=0.33 sec\n",
            " ARIMA(2,1,2)(0,0,0)[0]             : AIC=1791.895, Time=0.51 sec\n",
            " ARIMA(1,1,2)(0,0,0)[0]             : AIC=inf, Time=0.26 sec\n",
            " ARIMA(3,1,0)(0,0,0)[0]             : AIC=1810.726, Time=0.08 sec\n",
            " ARIMA(3,1,2)(0,0,0)[0]             : AIC=inf, Time=0.64 sec\n",
            " ARIMA(2,1,1)(0,0,0)[0] intercept   : AIC=inf, Time=0.66 sec\n",
            "\n",
            "Best model:  ARIMA(2,1,1)(0,0,0)[0]          \n",
            "Total fit time: 5.226 seconds\n",
            "r1a\n",
            "Performing stepwise search to minimize aic\n",
            " ARIMA(2,0,2)(0,0,0)[0] intercept   : AIC=4361.572, Time=0.43 sec\n",
            " ARIMA(0,0,0)(0,0,0)[0] intercept   : AIC=4499.826, Time=0.13 sec\n",
            " ARIMA(1,0,0)(0,0,0)[0] intercept   : AIC=4383.321, Time=0.03 sec\n",
            " ARIMA(0,0,1)(0,0,0)[0] intercept   : AIC=4434.325, Time=0.16 sec\n",
            " ARIMA(0,0,0)(0,0,0)[0]             : AIC=5101.897, Time=0.01 sec\n",
            " ARIMA(1,0,2)(0,0,0)[0] intercept   : AIC=4359.459, Time=0.29 sec\n",
            " ARIMA(0,0,2)(0,0,0)[0] intercept   : AIC=4389.747, Time=0.25 sec\n",
            " ARIMA(1,0,1)(0,0,0)[0] intercept   : AIC=4368.319, Time=0.41 sec\n",
            " ARIMA(1,0,3)(0,0,0)[0] intercept   : AIC=4360.851, Time=0.35 sec\n",
            " ARIMA(0,0,3)(0,0,0)[0] intercept   : AIC=4371.135, Time=0.51 sec\n",
            " ARIMA(2,0,1)(0,0,0)[0] intercept   : AIC=4362.599, Time=0.20 sec\n",
            " ARIMA(2,0,3)(0,0,0)[0] intercept   : AIC=4363.384, Time=1.17 sec\n",
            " ARIMA(1,0,2)(0,0,0)[0]             : AIC=4393.786, Time=0.16 sec\n",
            "\n",
            "Best model:  ARIMA(1,0,2)(0,0,0)[0] intercept\n",
            "Total fit time: 4.116 seconds\n",
            "r2a\n",
            "Performing stepwise search to minimize aic\n",
            " ARIMA(2,0,2)(0,0,0)[0] intercept   : AIC=4393.427, Time=0.22 sec\n",
            " ARIMA(0,0,0)(0,0,0)[0] intercept   : AIC=4512.724, Time=0.03 sec\n",
            " ARIMA(1,0,0)(0,0,0)[0] intercept   : AIC=4396.181, Time=0.05 sec\n",
            " ARIMA(0,0,1)(0,0,0)[0] intercept   : AIC=4430.327, Time=0.22 sec\n",
            " ARIMA(0,0,0)(0,0,0)[0]             : AIC=5111.413, Time=0.01 sec\n",
            " ARIMA(1,0,2)(0,0,0)[0] intercept   : AIC=4393.839, Time=0.28 sec\n",
            " ARIMA(2,0,1)(0,0,0)[0] intercept   : AIC=4392.829, Time=0.13 sec\n",
            " ARIMA(1,0,1)(0,0,0)[0] intercept   : AIC=4391.990, Time=0.08 sec\n",
            " ARIMA(0,0,2)(0,0,0)[0] intercept   : AIC=4419.976, Time=0.25 sec\n",
            " ARIMA(2,0,0)(0,0,0)[0] intercept   : AIC=4391.834, Time=0.07 sec\n",
            " ARIMA(3,0,0)(0,0,0)[0] intercept   : AIC=4389.104, Time=0.11 sec\n",
            " ARIMA(4,0,0)(0,0,0)[0] intercept   : AIC=4384.161, Time=0.15 sec\n",
            " ARIMA(5,0,0)(0,0,0)[0] intercept   : AIC=4382.546, Time=0.18 sec\n",
            " ARIMA(5,0,1)(0,0,0)[0] intercept   : AIC=4384.384, Time=0.34 sec\n",
            " ARIMA(4,0,1)(0,0,0)[0] intercept   : AIC=4385.311, Time=0.28 sec\n",
            " ARIMA(5,0,0)(0,0,0)[0]             : AIC=4421.421, Time=0.14 sec\n",
            "\n",
            "Best model:  ARIMA(5,0,0)(0,0,0)[0] intercept\n",
            "Total fit time: 2.570 seconds\n",
            "r3a\n",
            "Performing stepwise search to minimize aic\n",
            " ARIMA(2,0,2)(0,0,0)[0] intercept   : AIC=inf, Time=0.88 sec\n",
            " ARIMA(0,0,0)(0,0,0)[0] intercept   : AIC=4592.615, Time=0.02 sec\n",
            " ARIMA(1,0,0)(0,0,0)[0] intercept   : AIC=4442.842, Time=0.05 sec\n",
            " ARIMA(0,0,1)(0,0,0)[0] intercept   : AIC=4504.372, Time=0.15 sec\n",
            " ARIMA(0,0,0)(0,0,0)[0]             : AIC=5158.003, Time=0.01 sec\n",
            " ARIMA(2,0,0)(0,0,0)[0] intercept   : AIC=4429.084, Time=0.08 sec\n",
            " ARIMA(3,0,0)(0,0,0)[0] intercept   : AIC=4431.073, Time=0.10 sec\n",
            " ARIMA(2,0,1)(0,0,0)[0] intercept   : AIC=4431.082, Time=0.16 sec\n",
            " ARIMA(1,0,1)(0,0,0)[0] intercept   : AIC=4433.792, Time=0.07 sec\n",
            " ARIMA(3,0,1)(0,0,0)[0] intercept   : AIC=4433.049, Time=0.25 sec\n",
            " ARIMA(2,0,0)(0,0,0)[0]             : AIC=4460.385, Time=0.06 sec\n",
            "\n",
            "Best model:  ARIMA(2,0,0)(0,0,0)[0] intercept\n",
            "Total fit time: 1.833 seconds\n",
            "r4a\n",
            "Performing stepwise search to minimize aic\n",
            " ARIMA(2,0,2)(0,0,0)[0] intercept   : AIC=4309.198, Time=0.24 sec\n",
            " ARIMA(0,0,0)(0,0,0)[0] intercept   : AIC=4411.587, Time=0.02 sec\n",
            " ARIMA(1,0,0)(0,0,0)[0] intercept   : AIC=4312.445, Time=0.11 sec\n",
            " ARIMA(0,0,1)(0,0,0)[0] intercept   : AIC=4347.530, Time=0.23 sec\n",
            " ARIMA(0,0,0)(0,0,0)[0]             : AIC=5076.479, Time=0.01 sec\n",
            " ARIMA(1,0,2)(0,0,0)[0] intercept   : AIC=4307.280, Time=0.10 sec\n",
            " ARIMA(0,0,2)(0,0,0)[0] intercept   : AIC=4322.484, Time=0.38 sec\n",
            " ARIMA(1,0,1)(0,0,0)[0] intercept   : AIC=4308.088, Time=0.07 sec\n",
            " ARIMA(1,0,3)(0,0,0)[0] intercept   : AIC=4308.641, Time=0.13 sec\n",
            " ARIMA(0,0,3)(0,0,0)[0] intercept   : AIC=4313.137, Time=0.47 sec\n",
            " ARIMA(2,0,1)(0,0,0)[0] intercept   : AIC=4307.326, Time=0.12 sec\n",
            " ARIMA(2,0,3)(0,0,0)[0] intercept   : AIC=4311.594, Time=0.38 sec\n",
            " ARIMA(1,0,2)(0,0,0)[0]             : AIC=4341.209, Time=0.12 sec\n",
            "\n",
            "Best model:  ARIMA(1,0,2)(0,0,0)[0] intercept\n",
            "Total fit time: 2.400 seconds\n"
          ]
        }
      ]
    },
    {
      "cell_type": "code",
      "metadata": {
        "colab": {
          "base_uri": "https://localhost:8080/"
        },
        "id": "1VPInCR_Rk3n",
        "outputId": "d1aab44c-4182-45c9-a489-87c84fcb552b"
      },
      "source": [
        "orders = orders.astype(int)\n",
        "orders[0]"
      ],
      "execution_count": null,
      "outputs": [
        {
          "output_type": "execute_result",
          "data": {
            "text/plain": [
              "array([2, 0, 1])"
            ]
          },
          "metadata": {},
          "execution_count": 21
        }
      ]
    },
    {
      "cell_type": "code",
      "metadata": {
        "id": "bZzWFxxaEn-e"
      },
      "source": [
        "from statsmodels.tsa.arima_model import ARIMA"
      ],
      "execution_count": null,
      "outputs": []
    },
    {
      "cell_type": "code",
      "metadata": {
        "id": "10EMhA1pJ6p2",
        "colab": {
          "base_uri": "https://localhost:8080/"
        },
        "outputId": "979d1506-8709-4180-c7df-5adb2dc1246c"
      },
      "source": [
        "print(df_clean.shape)\n",
        "train=df_clean.iloc[:-12]\n",
        "test=df_clean.iloc[-12:]\n",
        "print(train.shape,test.shape)\n",
        "print(test.iloc[0],test.iloc[-1])\n",
        "#85-15 split of 312 as 266 and 46"
      ],
      "execution_count": null,
      "outputs": [
        {
          "output_type": "stream",
          "name": "stdout",
          "text": [
            "(312, 17)\n",
            "(300, 17) (12, 17)\n",
            "Date    2014-10-02 00:00:00\n",
            "r1mw                     39\n",
            "r2mw                     50\n",
            "r3mw                     38\n",
            "r4mw                     29\n",
            "r1m                     266\n",
            "r2m                     271\n",
            "r3m                     266\n",
            "r4m                     273\n",
            "r1c                     316\n",
            "r2c                     307\n",
            "r3c                     306\n",
            "r4c                     305\n",
            "r1a                     212\n",
            "r2a                     527\n",
            "r3a                    1052\n",
            "r4a                     527\n",
            "Name: 300, dtype: object Date    2014-12-18 00:00:00\n",
            "r1mw                     32\n",
            "r2mw                     28\n",
            "r3mw                     32\n",
            "r4mw                     50\n",
            "r1m                     272\n",
            "r2m                     272\n",
            "r3m                     265\n",
            "r4m                     270\n",
            "r1c                     307\n",
            "r2c                     302\n",
            "r3c                     304\n",
            "r4c                     308\n",
            "r1a                     527\n",
            "r2a                    1367\n",
            "r3a                    1052\n",
            "r4a                     527\n",
            "Name: 311, dtype: object\n"
          ]
        }
      ]
    },
    {
      "cell_type": "code",
      "metadata": {
        "id": "cj7RucmH7ZX9"
      },
      "source": [
        "def mape(actual, pred): \n",
        "    actual, pred = np.array(actual), np.array(pred)\n",
        "    return np.mean(np.abs((actual - pred) / actual)) * 100"
      ],
      "execution_count": null,
      "outputs": []
    },
    {
      "cell_type": "code",
      "metadata": {
        "colab": {
          "base_uri": "https://localhost:8080/",
          "height": 1000
        },
        "id": "JJHjosNlKpa_",
        "outputId": "c11a895b-0e4e-47c4-8a63-601d95f5c5ad"
      },
      "source": [
        "a=0\n",
        "from sklearn.metrics import mean_squared_error\n",
        "from sklearn.metrics import r2_score\n",
        "from math import sqrt\n",
        "from statsmodels.tsa.arima_model import ARIMA\n",
        "\n",
        "for i in products:\n",
        "  model=ARIMA(train[i],order=tuple(orders[a]))\n",
        "  model=model.fit()\n",
        "  model.summary()\n",
        "  start=len(train)\n",
        "  end=len(train)+len(test)-1\n",
        "  #if the predicted values dont have date values as index, you will have to uncomment the following two commented lines to plot a graph\n",
        "  #index_future_dates=pd.date_range(start='2014-01-30',end='2014-12-18',freq = 'W')\n",
        "  pred=model.predict(start=start,end=end,typ='levels').rename('ARIMA predictions')\n",
        "  #pred.index=index_future_dates\n",
        "  fig, axs = plt.subplots(2)\n",
        "  fig.suptitle('Vertically stacked subplots')\n",
        "  axs[1].plot(pred)\n",
        "  axs[1].plot(test[i])\n",
        "  axs[1].set_title(i)\n",
        "\n",
        "  print(i)\n",
        "  rmse=sqrt(mean_squared_error(pred,test[i]))\n",
        "  print('RMSE is: ' ,rmse)\n",
        "  #r2s = r2_score(y_true = test[i], y_pred = pred)\n",
        "  #print('R2 is: ', r2s)\n",
        "  mapex = mape(actual = test[i], pred = pred)\n",
        "  print('MAPE is: ', mapex)\n",
        "  a=a+1"
      ],
      "execution_count": null,
      "outputs": [
        {
          "output_type": "stream",
          "name": "stdout",
          "text": [
            "r1mw\n",
            "RMSE is:  7.054004808097956\n",
            "MAPE is:  13.997077823303744\n",
            "r2mw\n",
            "RMSE is:  13.608253988224082\n",
            "MAPE is:  37.08515633731257\n",
            "r3mw\n",
            "RMSE is:  9.619065349419351\n",
            "MAPE is:  34.43948666150889\n",
            "r4mw\n",
            "RMSE is:  10.06854145938644\n",
            "MAPE is:  22.331346653398867\n",
            "r1m\n",
            "RMSE is:  3.5878405619474494\n",
            "MAPE is:  1.195189178484047\n",
            "r2m\n",
            "RMSE is:  2.185381650680851\n",
            "MAPE is:  0.6786128465224067\n",
            "r3m\n",
            "RMSE is:  2.414459761044055\n",
            "MAPE is:  0.7654898380691723\n",
            "r4m\n",
            "RMSE is:  2.256975319651824\n",
            "MAPE is:  0.5817918994067601\n",
            "r1c\n",
            "RMSE is:  3.444896638973925\n",
            "MAPE is:  0.8963243542499997\n",
            "r2c\n",
            "RMSE is:  2.8039036413070897\n",
            "MAPE is:  0.8041434946028199\n",
            "r3c\n",
            "RMSE is:  2.631224497816431\n",
            "MAPE is:  0.7507594980635065\n",
            "r4c\n",
            "RMSE is:  3.012799174350681\n",
            "MAPE is:  0.9094718466205279\n",
            "r1a\n",
            "RMSE is:  222.3627895117305\n",
            "MAPE is:  47.36761357168011\n",
            "r2a\n",
            "RMSE is:  339.8379131804554\n",
            "MAPE is:  24.078123099375844\n",
            "r3a\n",
            "RMSE is:  407.94168343901276\n",
            "MAPE is:  23.234045155362164\n",
            "r4a\n",
            "RMSE is:  180.1428896372101\n",
            "MAPE is:  23.091859101155563\n"
          ]
        },
        {
          "output_type": "display_data",
          "data": {
            "image/png": "[encoded data removed]",
            "text/plain": [
              "<Figure size 432x288 with 2 Axes>"
            ]
          },
          "metadata": {
            "needs_background": "light"
          }
        },
        {
          "output_type": "display_data",
          "data": {
            "image/png": "[encoded data removed]",
            "text/plain": [
              "<Figure size 432x288 with 2 Axes>"
            ]
          },
          "metadata": {
            "needs_background": "light"
          }
        },
        {
          "output_type": "display_data",
          "data": {
            "image/png": "[encoded data removed]",
            "text/plain": [
              "<Figure size 432x288 with 2 Axes>"
            ]
          },
          "metadata": {
            "needs_background": "light"
          }
        },
        {
          "output_type": "display_data",
          "data": {
            "image/png": "[encoded data removed]",
            "text/plain": [
              "<Figure size 432x288 with 2 Axes>"
            ]
          },
          "metadata": {
            "needs_background": "light"
          }
        },
        {
          "output_type": "display_data",
          "data": {
            "image/png": "[encoded data removed]",
            "text/plain": [
              "<Figure size 432x288 with 2 Axes>"
            ]
          },
          "metadata": {
            "needs_background": "light"
          }
        },
        {
          "output_type": "display_data",
          "data": {
            "image/png": "[encoded data removed]",
            "text/plain": [
              "<Figure size 432x288 with 2 Axes>"
            ]
          },
          "metadata": {
            "needs_background": "light"
          }
        },
        {
          "output_type": "display_data",
          "data": {
            "image/png": "[encoded data removed]",
            "text/plain": [
              "<Figure size 432x288 with 2 Axes>"
            ]
          },
          "metadata": {
            "needs_background": "light"
          }
        },
        {
          "output_type": "display_data",
          "data": {
            "image/png": "[encoded data removed]",
            "text/plain": [
              "<Figure size 432x288 with 2 Axes>"
            ]
          },
          "metadata": {
            "needs_background": "light"
          }
        },
        {
          "output_type": "display_data",
          "data": {
            "image/png": "[encoded data removed]",
            "text/plain": [
              "<Figure size 432x288 with 2 Axes>"
            ]
          },
          "metadata": {
            "needs_background": "light"
          }
        },
        {
          "output_type": "display_data",
          "data": {
            "image/png": "[encoded data removed]",
            "text/plain": [
              "<Figure size 432x288 with 2 Axes>"
            ]
          },
          "metadata": {
            "needs_background": "light"
          }
        },
        {
          "output_type": "display_data",
          "data": {
            "image/png": "[encoded data removed]",
            "text/plain": [
              "<Figure size 432x288 with 2 Axes>"
            ]
          },
          "metadata": {
            "needs_background": "light"
          }
        },
        {
          "output_type": "display_data",
          "data": {
            "image/png": "[encoded data removed]",
            "text/plain": [
              "<Figure size 432x288 with 2 Axes>"
            ]
          },
          "metadata": {
            "needs_background": "light"
          }
        },
        {
          "output_type": "display_data",
          "data": {
            "image/png": "[encoded data removed]",
            "text/plain": [
              "<Figure size 432x288 with 2 Axes>"
            ]
          },
          "metadata": {
            "needs_background": "light"
          }
        },
        {
          "output_type": "display_data",
          "data": {
            "image/png": "[encoded data removed]",
            "text/plain": [
              "<Figure size 432x288 with 2 Axes>"
            ]
          },
          "metadata": {
            "needs_background": "light"
          }
        },
        {
          "output_type": "display_data",
          "data": {
            "image/png": "[encoded data removed]",
            "text/plain": [
              "<Figure size 432x288 with 2 Axes>"
            ]
          },
          "metadata": {
            "needs_background": "light"
          }
        },
        {
          "output_type": "display_data",
          "data": {
            "image/png": "[encoded data removed]",
            "text/plain": [
              "<Figure size 432x288 with 2 Axes>"
            ]
          },
          "metadata": {
            "needs_background": "light"
          }
        }
      ]
    },
    {
      "cell_type": "code",
      "metadata": {
        "colab": {
          "base_uri": "https://localhost:8080/",
          "height": 346
        },
        "id": "o48VtfY01usI",
        "outputId": "faefbc94-a8e6-4144-fd73-6b15b5fb40af"
      },
      "source": [
        "#from sklearn.metrics import mean_absolute_percentage_error\n",
        "model=ARIMA(train['r1mw'],order=(2,0,1))\n",
        "model=model.fit()\n",
        "model.summary()\n",
        "start=len(train)\n",
        "end=len(train)+len(test)-1\n",
        "#if the predicted values dont have date values as index, you will have to uncomment the following two commented lines to plot a graph\n",
        "#index_future_dates=pd.date_range(start='2014-01-30',end='2014-12-18',freq = 'W')\n",
        "pred=model.predict(start=start,end=end,typ='levels').rename('ARIMA predictions')\n",
        "#pred.index=index_future_dates\n",
        "fig, axs = plt.subplots(2)\n",
        "fig.suptitle('Vertically stacked subplots')\n",
        "axs[1].plot(pred)\n",
        "axs[1].plot(test['r1mw'])\n",
        "rmse=sqrt(mean_squared_error(pred,test['r1mw']))\n",
        "print('RMSE is: ' ,rmse)\n",
        "r2s = r2_score(y_true = test['r1mw'], y_pred = pred)\n",
        "print('R2 is: ', r2s)\n",
        "mapex = mape(actual = test['r1mw'], pred = pred)\n",
        "print('MAPE is: ', mapex)"
      ],
      "execution_count": null,
      "outputs": [
        {
          "output_type": "stream",
          "name": "stdout",
          "text": [
            "RMSE is:  7.054004808097956\n",
            "R2 is:  -1.8672643745115436\n",
            "MAPE is:  13.997077823303744\n"
          ]
        },
        {
          "output_type": "display_data",
          "data": {
            "image/png": "[encoded data removed]",
            "text/plain": [
              "<Figure size 432x288 with 2 Axes>"
            ]
          },
          "metadata": {
            "needs_background": "light"
          }
        }
      ]
    }
  ]
}